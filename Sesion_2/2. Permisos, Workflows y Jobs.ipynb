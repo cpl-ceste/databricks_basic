{
 "cells": [
  {
   "cell_type": "markdown",
   "metadata": {
    "application/vnd.databricks.v1+cell": {
     "cellMetadata": {},
     "inputWidgets": {},
     "nuid": "f9173484-c57d-4317-a76e-c7bea91eb8da",
     "showTitle": false,
     "tableResultSettingsMap": {},
     "title": ""
    }
   },
   "source": [
    "# Manejo de Permisos, Workflows y Jobs en entornos productivos"
   ]
  },
  {
   "cell_type": "markdown",
   "metadata": {
    "application/vnd.databricks.v1+cell": {
     "cellMetadata": {},
     "inputWidgets": {},
     "nuid": "fb18907b-0878-4b05-9305-7afc5dc23cc3",
     "showTitle": false,
     "tableResultSettingsMap": {},
     "title": ""
    }
   },
   "source": [
    "En los entornos de datos modernos, como Databricks, la correcta gestión de permisos, la automatización de procesos mediante workflows y la orquestación de jobs son pilares fundamentales para garantizar la seguridad, la eficiencia y la trazabilidad de las operaciones. \n",
    "\n",
    "En este notebook aprenderás los conceptos clave y mejores prácticas para:\n",
    "- Gestionar el acceso seguro a los datos y recursos.\n",
    "- Automatizar tareas repetitivas y procesos complejos.\n",
    "- Orquestar flujos de trabajo robustos y auditables.\n",
    "\n",
    "Esto es especialmente relevante en entornos productivos, donde la gobernanza y la escalabilidad son críticas para el éxito de los proyectos de analítica y ciencia de datos."
   ]
  },
  {
   "cell_type": "markdown",
   "metadata": {
    "application/vnd.databricks.v1+cell": {
     "cellMetadata": {},
     "inputWidgets": {},
     "nuid": "d01f3459-455f-4647-8148-1b1c615050bb",
     "showTitle": false,
     "tableResultSettingsMap": {},
     "title": ""
    }
   },
   "source": [
    "## 1. Unity Catalog\n",
    "\n",
    "Unity Catalog es la solución de gobernanza de datos de Databricks que permite gestionar de forma centralizada el acceso, la organización y la auditoría de todos los activos de datos de una organización. Facilita la implementación de políticas de seguridad y cumplimiento normativo, permitiendo un control granular sobre quién puede ver o modificar cada recurso.\n",
    "\n",
    "Con Unity Catalog, las empresas pueden:\n",
    "- Unificar la gestión de permisos en todos los workspaces y entornos.\n",
    "- Garantizar la trazabilidad y el linaje de los datos.\n",
    "- Cumplir con regulaciones de privacidad y seguridad de la información."
   ]
  },
  {
   "cell_type": "markdown",
   "metadata": {
    "application/vnd.databricks.v1+cell": {
     "cellMetadata": {},
     "inputWidgets": {},
     "nuid": "62765b5c-c495-4b0f-a23b-bdde03eaf2cc",
     "showTitle": false,
     "tableResultSettingsMap": {},
     "title": ""
    }
   },
   "source": [
    "### Objetivos\n",
    "- Comprender la arquitectura y los componentes de Unity Catalog.\n",
    "- Implementar modelos de seguridad granulares para proteger los datos sensibles.\n",
    "- Gestionar permisos a nivel de objeto (catálogo, esquema, tabla).\n",
    "- Utilizar el lineage para auditar y rastrear el flujo de los datos a lo largo de los procesos."
   ]
  },
  {
   "cell_type": "markdown",
   "metadata": {
    "application/vnd.databricks.v1+cell": {
     "cellMetadata": {},
     "inputWidgets": {},
     "nuid": "6fbf67b9-71aa-4e22-bd96-361384201fb5",
     "showTitle": false,
     "tableResultSettingsMap": {},
     "title": ""
    }
   },
   "source": [
    "Unity Catalog proporciona una capa de gobierno centralizada que simplifica la administración de datos en la organización. Sus principales ventajas incluyen:\n",
    "- Un modelo unificado de gobierno para todos los datos, independientemente del motor o lenguaje utilizado.\n",
    "- Control de acceso fino: puedes definir permisos a nivel de catálogo, esquema, tabla, vista.\n",
    "- Lineage completo: permite rastrear el origen y las transformaciones de los datos, facilitando auditorías y análisis de impacto.\n",
    "- Auditoría centralizada: todas las acciones quedan registradas para su revisión.\n",
    "\n",
    "**Estructura jerárquica de Unity Catalog:**\n",
    "1. **Metastore** (nivel más alto): almacén central de metadatos.\n",
    "2. **Catálogos**: agrupan esquemas y objetos, suelen representar entornos (dev, staging, prod).\n",
    "3. **Esquemas**: equivalentes a bases de datos, agrupan tablas y vistas.\n",
    "4. **Tablas, vistas y funciones**: objetos de datos y lógica."
   ]
  },
  {
   "cell_type": "markdown",
   "metadata": {
    "application/vnd.databricks.v1+cell": {
     "cellMetadata": {},
     "inputWidgets": {},
     "nuid": "1c605022-9137-476a-92bb-4f8cb1d1fc70",
     "showTitle": false,
     "tableResultSettingsMap": {},
     "title": ""
    }
   },
   "source": [
    "### Estructuras de Unity Catalog"
   ]
  },
  {
   "cell_type": "markdown",
   "metadata": {
    "application/vnd.databricks.v1+cell": {
     "cellMetadata": {},
     "inputWidgets": {},
     "nuid": "67838ff8-f4aa-49c8-abf0-5db5d7a79c6b",
     "showTitle": false,
     "tableResultSettingsMap": {},
     "title": ""
    }
   },
   "source": [
    "Las estructuras jerárquicas de Unity Catalog permiten organizar los datos de forma lógica y segura. Esta organización facilita la asignación de permisos y la segmentación de los datos según necesidades de negocio o cumplimiento."
   ]
  },
  {
   "cell_type": "markdown",
   "metadata": {
    "application/vnd.databricks.v1+cell": {
     "cellMetadata": {},
     "inputWidgets": {},
     "nuid": "30887290-77b9-42c5-a1f2-ed39ea2b21e5",
     "showTitle": false,
     "tableResultSettingsMap": {},
     "title": ""
    }
   },
   "source": [
    "Vamos a crear un catálogo, que será el contenedor principal de los datos y recursos que utilizaremos durante esta sesión. Esto nos permitirá trabajar de forma aislada y controlada."
   ]
  },
  {
   "cell_type": "code",
   "execution_count": 0,
   "metadata": {
    "application/vnd.databricks.v1+cell": {
     "cellMetadata": {
      "byteLimit": 2048000,
      "rowLimit": 10000
     },
     "inputWidgets": {},
     "nuid": "2cd51898-bae7-4cc2-a023-ec5302eae14d",
     "showTitle": false,
     "tableResultSettingsMap": {},
     "title": ""
    }
   },
   "outputs": [],
   "source": [
    "dbutils.widgets.text(\"catalogo\", \"sesion_2\", \"Nombre del Catálogo que vamos a usar durante esta sesion\")\n",
    "catalog_name = dbutils.widgets.get(\"catalogo\")"
   ]
  },
  {
   "cell_type": "code",
   "execution_count": 0,
   "metadata": {
    "application/vnd.databricks.v1+cell": {
     "cellMetadata": {
      "byteLimit": 2048000,
      "rowLimit": 10000
     },
     "inputWidgets": {},
     "nuid": "11eda8e1-7824-4f06-aa2c-41382c8007fc",
     "showTitle": false,
     "tableResultSettingsMap": {},
     "title": ""
    }
   },
   "outputs": [],
   "source": [
    "# Crear catálogo\n",
    "spark.sql(f\"CREATE CATALOG IF NOT EXISTS {catalog_name}\")\n",
    "sql(f\"USE CATALOG {catalog_name}\")"
   ]
  },
  {
   "cell_type": "markdown",
   "metadata": {
    "application/vnd.databricks.v1+cell": {
     "cellMetadata": {},
     "inputWidgets": {},
     "nuid": "bd942f18-ba01-46a0-8ca7-52cc9a8518b0",
     "showTitle": false,
     "tableResultSettingsMap": {},
     "title": ""
    }
   },
   "source": [
    "Ahora crearemos un esquema dentro del catálogo, que funcionará como una base de datos lógica para organizar nuestras tablas y vistas de la sesión."
   ]
  },
  {
   "cell_type": "code",
   "execution_count": 0,
   "metadata": {
    "application/vnd.databricks.v1+cell": {
     "cellMetadata": {
      "byteLimit": 2048000,
      "rowLimit": 10000
     },
     "inputWidgets": {},
     "nuid": "e37355ed-88cc-4180-8fed-96b3be110472",
     "showTitle": false,
     "tableResultSettingsMap": {},
     "title": ""
    }
   },
   "outputs": [],
   "source": [
    "dbutils.widgets.text(\"esquema\", \"retail_ventas\", \"Nombre del Esquema\")\n",
    "schema_name = dbutils.widgets.get(\"esquema\")"
   ]
  },
  {
   "cell_type": "code",
   "execution_count": 0,
   "metadata": {
    "application/vnd.databricks.v1+cell": {
     "cellMetadata": {
      "byteLimit": 2048000,
      "rowLimit": 10000
     },
     "inputWidgets": {},
     "nuid": "66f2df81-f3db-4b52-9200-af39f33ed700",
     "showTitle": false,
     "tableResultSettingsMap": {},
     "title": ""
    }
   },
   "outputs": [],
   "source": [
    "sql(f\"CREATE SCHEMA IF NOT EXISTS {schema_name}\")"
   ]
  },
  {
   "cell_type": "markdown",
   "metadata": {
    "application/vnd.databricks.v1+cell": {
     "cellMetadata": {},
     "inputWidgets": {},
     "nuid": "6394b991-78e4-4740-842f-8a8bdc3946e7",
     "showTitle": false,
     "tableResultSettingsMap": {},
     "title": ""
    }
   },
   "source": [
    "#### Usuarios y Grupos"
   ]
  },
  {
   "cell_type": "markdown",
   "metadata": {
    "application/vnd.databricks.v1+cell": {
     "cellMetadata": {},
     "inputWidgets": {},
     "nuid": "40e21dc4-de2e-47c8-87f9-cc8cb09004b9",
     "showTitle": false,
     "tableResultSettingsMap": {},
     "title": ""
    }
   },
   "source": [
    "La gestión de usuarios y grupos es fundamental para aplicar políticas de seguridad y control de acceso en Databricks. Los grupos permiten asignar permisos de forma eficiente y escalable, evitando la gestión individualizada usuario por usuario."
   ]
  },
  {
   "cell_type": "markdown",
   "metadata": {
    "application/vnd.databricks.v1+cell": {
     "cellMetadata": {},
     "inputWidgets": {},
     "nuid": "4ff6ced5-7a2b-482c-a557-93de624af646",
     "showTitle": false,
     "tableResultSettingsMap": {},
     "title": ""
    }
   },
   "source": [
    "Ahora vamos a otorgar permisos a los usuarios. Para ello, primero crearemos grupos, ya que la asignación de permisos a grupos es más eficiente y segura que hacerlo a usuarios individuales. Por defecto, solemos trabajar con el usuario admin dentro del grupo admins, pero en entornos reales es recomendable definir grupos específicos para cada rol o equipo."
   ]
  },
  {
   "cell_type": "code",
   "execution_count": 0,
   "metadata": {
    "application/vnd.databricks.v1+cell": {
     "cellMetadata": {
      "byteLimit": 2048000,
      "rowLimit": 10000
     },
     "inputWidgets": {},
     "nuid": "50836921-0a52-4ebd-9951-2b9dcb8d3e5a",
     "showTitle": false,
     "tableResultSettingsMap": {},
     "title": ""
    }
   },
   "outputs": [],
   "source": [
    "display(sql(\"SHOW GROUPS\"))"
   ]
  },
  {
   "cell_type": "markdown",
   "metadata": {
    "application/vnd.databricks.v1+cell": {
     "cellMetadata": {},
     "inputWidgets": {},
     "nuid": "78720a5e-b61c-4c71-a16d-c2167717cc19",
     "showTitle": false,
     "tableResultSettingsMap": {},
     "title": ""
    }
   },
   "source": [
    "Los usuarios y grupos pueden crearse tanto mediante comandos SQL como utilizando la interfaz de administración de Databricks. Esto permite automatizar la gestión de identidades y facilitar la integración con sistemas externos."
   ]
  },
  {
   "cell_type": "code",
   "execution_count": 0,
   "metadata": {
    "application/vnd.databricks.v1+cell": {
     "cellMetadata": {
      "byteLimit": 2048000,
      "implicitDf": true,
      "rowLimit": 10000
     },
     "inputWidgets": {},
     "nuid": "f2bdbb57-f8ec-4f6b-b7fa-286f11edacb9",
     "showTitle": false,
     "tableResultSettingsMap": {},
     "title": ""
    }
   },
   "outputs": [],
   "source": [
    "%sql\n",
    "CREATE GROUP data_engineers_b;\n"
   ]
  },
  {
   "cell_type": "code",
   "execution_count": 0,
   "metadata": {
    "application/vnd.databricks.v1+cell": {
     "cellMetadata": {
      "byteLimit": 2048000,
      "rowLimit": 10000
     },
     "inputWidgets": {},
     "nuid": "0c04532b-f761-41d7-8627-43305a2b963f",
     "showTitle": false,
     "tableResultSettingsMap": {},
     "title": ""
    }
   },
   "outputs": [],
   "source": [
    "sql(\"CREATE GROUP `data_analysts_b`\")"
   ]
  },
  {
   "cell_type": "code",
   "execution_count": 0,
   "metadata": {
    "application/vnd.databricks.v1+cell": {
     "cellMetadata": {
      "byteLimit": 2048000,
      "implicitDf": true,
      "rowLimit": 10000
     },
     "inputWidgets": {},
     "nuid": "019c497d-8fa2-47eb-905e-793807577ebb",
     "showTitle": false,
     "tableResultSettingsMap": {},
     "title": ""
    }
   },
   "outputs": [],
   "source": [
    "%sql\n",
    "SHOW GRANTS ON CATALOG `sesion_2`;"
   ]
  },
  {
   "cell_type": "markdown",
   "metadata": {
    "application/vnd.databricks.v1+cell": {
     "cellMetadata": {},
     "inputWidgets": {},
     "nuid": "5ab7bab1-d16a-4d35-ae12-f4d5ee627960",
     "showTitle": false,
     "tableResultSettingsMap": {},
     "title": ""
    }
   },
   "source": [
    "Se pueden asignar permisos a diferentes niveles:\n",
    "- Catálogos\n",
    "- Esquemas\n",
    "- Tablas\n",
    "\n",
    "Los permisos se otorgan a entidades denominadas *principals*, que pueden ser:\n",
    "- **Usuarios**: identificados por su nombre o correo electrónico.\n",
    "- **Service principals**: identidades técnicas asociadas a aplicaciones o servicios automatizados.\n",
    "- **Grupos**: conjuntos de usuarios con permisos comunes.\n",
    "\n",
    "Esta flexibilidad permite implementar modelos de seguridad adaptados a las necesidades de cada organización."
   ]
  },
  {
   "cell_type": "code",
   "execution_count": 0,
   "metadata": {
    "application/vnd.databricks.v1+cell": {
     "cellMetadata": {
      "byteLimit": 2048000,
      "rowLimit": 10000
     },
     "inputWidgets": {},
     "nuid": "e645a6e3-a8ad-4745-91dc-89196fb28fc8",
     "showTitle": false,
     "tableResultSettingsMap": {},
     "title": ""
    }
   },
   "outputs": [],
   "source": [
    "display(sql(\"SHOW GROUPS\"))"
   ]
  },
  {
   "cell_type": "markdown",
   "metadata": {
    "application/vnd.databricks.v1+cell": {
     "cellMetadata": {},
     "inputWidgets": {},
     "nuid": "aac5cd6d-9c7c-4da4-a15f-58dba8818655",
     "showTitle": false,
     "tableResultSettingsMap": {},
     "title": ""
    }
   },
   "source": [
    "Vamos a intentar asignar un permiso a uno de los grupos que hemos creado anteriormente. Observa que, si el grupo no está correctamente sincronizado a nivel de cuenta, se producirá un error. Esto ilustra la importancia de gestionar los grupos en el lugar adecuado."
   ]
  },
  {
   "cell_type": "code",
   "execution_count": 0,
   "metadata": {
    "application/vnd.databricks.v1+cell": {
     "cellMetadata": {
      "byteLimit": 2048000,
      "rowLimit": 10000
     },
     "inputWidgets": {},
     "nuid": "d1e36279-32a2-4a0f-b3e6-fc957f574176",
     "showTitle": false,
     "tableResultSettingsMap": {},
     "title": ""
    }
   },
   "outputs": [],
   "source": [
    "sql(f\"GRANT SELECT ON SCHEMA {schema_name} TO `data_analysts_b`\")"
   ]
  },
  {
   "cell_type": "markdown",
   "metadata": {
    "application/vnd.databricks.v1+cell": {
     "cellMetadata": {},
     "inputWidgets": {},
     "nuid": "d438dde1-29ba-4c4d-92ca-6b3729ef22dc",
     "showTitle": false,
     "tableResultSettingsMap": {},
     "title": ""
    }
   },
   "source": [
    "**Importante**: los grupos creados únicamente en el workspace no son reconocidos por Unity Catalog. Lo mismo ocurre con los usuarios.\n",
    "- Unity Catalog solo reconoce grupos y usuarios definidos a nivel de cuenta (creados manualmente o sincronizados desde sistemas de identidad como Azure AD, Okta, etc.).\n",
    "- Si un grupo como `data_analysts` existe solo en el workspace, Unity Catalog no lo podrá utilizar como principal para asignar permisos.\n",
    "\n",
    "Por eso, es fundamental gestionar los grupos a nivel de cuenta para aprovechar todas las capacidades de seguridad de Unity Catalog."
   ]
  },
  {
   "cell_type": "markdown",
   "metadata": {
    "application/vnd.databricks.v1+cell": {
     "cellMetadata": {},
     "inputWidgets": {},
     "nuid": "f5c5fa0c-5451-42e1-aaee-f8fe2ef9a99b",
     "showTitle": false,
     "tableResultSettingsMap": {},
     "title": ""
    }
   },
   "source": [
    "Para saber si un grupo es de cuenta o solo del workspace, existen varias formas de comprobarlo:\n",
    "1. Usando la Account Console de Databricks (https://accounts.cloud.databricks.com).\n",
    "2. Revisando la configuración de administración (Admin settings) en la esquina superior derecha de la interfaz.\n",
    "\n",
    "Esto es importante para asegurarse de que los grupos utilizados en las políticas de seguridad sean válidos para Unity Catalog."
   ]
  },
  {
   "cell_type": "markdown",
   "metadata": {
    "application/vnd.databricks.v1+cell": {
     "cellMetadata": {},
     "inputWidgets": {},
     "nuid": "7ba9bb7d-3058-4c8c-9887-5662d3c5196e",
     "showTitle": false,
     "tableResultSettingsMap": {},
     "title": ""
    }
   },
   "source": [
    "#### Utilización Usuarios de Cuenta"
   ]
  },
  {
   "cell_type": "markdown",
   "metadata": {
    "application/vnd.databricks.v1+cell": {
     "cellMetadata": {},
     "inputWidgets": {},
     "nuid": "ccd44bd3-5214-47f2-a3f7-726732cbb393",
     "showTitle": false,
     "tableResultSettingsMap": {},
     "title": ""
    }
   },
   "source": [
    "Para crear un grupo a nivel de cuenta existen dos métodos principales:\n",
    "- **Account Console**: método gráfico y sencillo, recomendado para la mayoría de los casos.\n",
    "- **Databricks Account API**: método avanzado y automatizable, ideal para integraciones y grandes organizaciones. Permite crear grupos mediante scripts y pipelines de automatización.\n",
    "\n",
    "A continuación, se muestra un ejemplo de cómo crear un grupo usando la API, lo que resulta útil para procesos repetitivos o integraciones con sistemas externos.\n",
    "  ```bash\n",
    "  curl -X POST https://accounts.cloud.databricks.com/api/2.0/accounts/<ACCOUNT_ID>/groups \\\n",
    "  -H \"Authorization: Bearer <ACCOUNT_TOKEN>\" \\\n",
    "  -H \"Content-Type: application/json\" \\\n",
    "  -d '{\"display_name\": \"data_engineers\"}'\n",
    "  ```\n",
    "\n",
    "  También tenéis un archivo en el repositorio llamado `group_creator.sh` para automatizar este proceso"
   ]
  },
  {
   "cell_type": "markdown",
   "metadata": {
    "application/vnd.databricks.v1+cell": {
     "cellMetadata": {},
     "inputWidgets": {},
     "nuid": "298c9dff-0d6c-4bd4-af18-b89ad255337b",
     "showTitle": false,
     "tableResultSettingsMap": {},
     "title": ""
    }
   },
   "source": [
    "Vamos a repasar el proceso para crear y sincronizar grupos a nivel de cuenta mediante la consola (que es lo más común):\n",
    "1. Accede a la Account Console y crea los grupos `data_engineers` y `data_analysts`.\n",
    "2. Vuelve a la página de configuración del workspace y comprueba que los grupos aún no aparecen.\n",
    "3. Otorga permisos al workspace para acceder a los grupos de cuenta.\n",
    "4. Vuelve a consultar los grupos desde el workspace y verifica que ya están disponibles.\n",
    "\n",
    "Este flujo garantiza que los grupos estén correctamente sincronizados y puedan ser utilizados en las políticas de Unity Catalog."
   ]
  },
  {
   "cell_type": "markdown",
   "metadata": {
    "application/vnd.databricks.v1+cell": {
     "cellMetadata": {},
     "inputWidgets": {},
     "nuid": "392ea94a-87a2-4319-add1-9c2287002e89",
     "showTitle": false,
     "tableResultSettingsMap": {},
     "title": ""
    }
   },
   "source": [
    "Ahora que ya tenemos los grupos sincronizados nos falta asignar pemisos para poder utilizar los grupos apropiadamente"
   ]
  },
  {
   "cell_type": "code",
   "execution_count": 0,
   "metadata": {
    "application/vnd.databricks.v1+cell": {
     "cellMetadata": {
      "byteLimit": 2048000,
      "implicitDf": true,
      "rowLimit": 10000
     },
     "inputWidgets": {},
     "nuid": "31434429-b44d-46ee-9ac9-a0b196284359",
     "showTitle": false,
     "tableResultSettingsMap": {},
     "title": ""
    }
   },
   "outputs": [],
   "source": [
    "%sql\n",
    "SHOW GRANTS on catalog sesion_2;"
   ]
  },
  {
   "cell_type": "code",
   "execution_count": 0,
   "metadata": {
    "application/vnd.databricks.v1+cell": {
     "cellMetadata": {
      "byteLimit": 2048000,
      "implicitDf": true,
      "rowLimit": 10000
     },
     "inputWidgets": {},
     "nuid": "54cf974a-4c53-4fa0-b488-92edc073725d",
     "showTitle": false,
     "tableResultSettingsMap": {},
     "title": ""
    }
   },
   "outputs": [],
   "source": [
    "%sql\n",
    "GRANT ALL PRIVILEGES ON CATALOG sesion_2 TO `data_engineers`;\n"
   ]
  },
  {
   "cell_type": "markdown",
   "metadata": {
    "application/vnd.databricks.v1+cell": {
     "cellMetadata": {},
     "inputWidgets": {},
     "nuid": "69217e7f-535a-4bd4-9cdb-c39a884edfa2",
     "showTitle": false,
     "tableResultSettingsMap": {},
     "title": ""
    }
   },
   "source": [
    "Aquí tienes el enlace a la documentación oficial de Databricks sobre los permisos disponibles. Es importante consultar esta referencia, ya que los privilegios varían según el tipo de entidad (catálogo, esquema, tabla, etc.) y se actualizan con frecuencia:\n",
    "[Privilegios](https://docs.databricks.com/aws/en/data-governance/unity-catalog/manage-privileges/privileges)\n",
    "\n",
    "Revisar la documentación te ayudará a aplicar las mejores prácticas y evitar errores de configuración."
   ]
  },
  {
   "cell_type": "markdown",
   "metadata": {
    "application/vnd.databricks.v1+cell": {
     "cellMetadata": {},
     "inputWidgets": {},
     "nuid": "b20d7de8-e42b-4029-8749-06214dbdcf93",
     "showTitle": false,
     "tableResultSettingsMap": {},
     "title": ""
    }
   },
   "source": [
    "Los permisos en Unity Catalog se heredan de forma jerárquica. Es decir, si otorgas un permiso a un catálogo, ese permiso se aplicará también a los esquemas y tablas que contiene, salvo que se sobrescriba explícitamente en un nivel inferior.\n",
    "\n",
    "Por ejemplo, si un grupo tiene acceso de lectura a un catálogo, podrá leer todas las tablas y vistas de los esquemas dentro de ese catálogo, a menos que se restrinja en algún esquema o tabla específica."
   ]
  },
  {
   "cell_type": "markdown",
   "metadata": {
    "application/vnd.databricks.v1+cell": {
     "cellMetadata": {},
     "inputWidgets": {},
     "nuid": "47ba0db5-3070-4d9c-aa4c-28a399d6461e",
     "showTitle": false,
     "tableResultSettingsMap": {},
     "title": ""
    }
   },
   "source": [
    "El siguiente gráfico ilustra la jerarquía de permisos en Unity Catalog. Observa cómo los permisos fluyen desde el nivel superior (catálogo) hacia los niveles inferiores (esquema, tabla, columna), permitiendo una gestión flexible y escalable de la seguridad de los datos.\n",
    "\n",
    "![Gráfico de jerarquía de permisos](https://docs.databricks.com/aws/en/assets/images/object-hierarchy-199f1519005d35d39b82212b8b71a079.png)"
   ]
  },
  {
   "cell_type": "code",
   "execution_count": 0,
   "metadata": {
    "application/vnd.databricks.v1+cell": {
     "cellMetadata": {
      "byteLimit": 2048000,
      "implicitDf": true,
      "rowLimit": 10000
     },
     "inputWidgets": {},
     "nuid": "f90a5cdd-a170-458c-acec-0e942843ceca",
     "showTitle": false,
     "tableResultSettingsMap": {},
     "title": ""
    }
   },
   "outputs": [],
   "source": [
    "%sql\n",
    "SHOW GRANTS ON SCHEMA sesion_2.retail_ventas;\n"
   ]
  },
  {
   "cell_type": "markdown",
   "metadata": {
    "application/vnd.databricks.v1+cell": {
     "cellMetadata": {},
     "inputWidgets": {},
     "nuid": "d261004d-bc48-4329-80e4-1b7848d51f8d",
     "showTitle": false,
     "tableResultSettingsMap": {},
     "title": ""
    }
   },
   "source": [
    "Al igual que los permisos se otorgan también se pueden revocar mediante este comando"
   ]
  },
  {
   "cell_type": "code",
   "execution_count": 0,
   "metadata": {
    "application/vnd.databricks.v1+cell": {
     "cellMetadata": {
      "byteLimit": 2048000,
      "rowLimit": 10000
     },
     "inputWidgets": {},
     "nuid": "c9c5181f-77a9-43d4-8f39-01e72cf65f05",
     "showTitle": false,
     "tableResultSettingsMap": {},
     "title": ""
    }
   },
   "outputs": [],
   "source": [
    "sql(f\"REVOKE ALL PRIVILEGES ON CATALOG sesion_2 FROM `data_engineers`\")"
   ]
  },
  {
   "cell_type": "code",
   "execution_count": 0,
   "metadata": {
    "application/vnd.databricks.v1+cell": {
     "cellMetadata": {
      "byteLimit": 2048000,
      "implicitDf": true,
      "rowLimit": 10000
     },
     "inputWidgets": {},
     "nuid": "f242acfd-648b-43fb-ac27-fe5eb899bc93",
     "showTitle": false,
     "tableResultSettingsMap": {},
     "title": ""
    }
   },
   "outputs": [],
   "source": [
    "%sql\n",
    "SHOW GRANTS on catalog sesion_2;"
   ]
  },
  {
   "cell_type": "markdown",
   "metadata": {
    "application/vnd.databricks.v1+cell": {
     "cellMetadata": {},
     "inputWidgets": {},
     "nuid": "91c5c9b4-0b0b-4b60-946a-b67e889cfade",
     "showTitle": false,
     "tableResultSettingsMap": {},
     "title": ""
    }
   },
   "source": [
    "#### Comparativa entre Usuarios y Grupos en Workspace vs Cuenta\n",
    "\n",
    "La siguiente tabla resume las diferencias clave entre los usuarios y grupos gestionados a nivel de workspace y los gestionados a nivel de cuenta. Es fundamental entender estas diferencias para diseñar una estrategia de seguridad robusta y compatible con Unity Catalog.\n",
    "\n",
    "| Característica                               | Workspace User/Group     | Account User/Group      |\n",
    "|----------------------------------------------|--------------------------|-------------------------|\n",
    "| Visibles solo en un workspace                | ✅ Sí                    | ❌ No (son globales)   |\n",
    "| Útiles para permisos en notebooks, jobs, etc.| ✅ Sí                    | ✅ Sí                  |\n",
    "| Se usan para Unity Catalog (datos)           | ❌ No                    | ✅ Sí                  |\n",
    "| Gobernanza centralizada de datos             | ❌ No                    | ✅ Sí                  |\n",
    "| Accesibles desde todos los workspaces        | ❌ No                    | ✅ Sí                  |\n",
    "| Gestión desde Workspace UI                   | ✅ Sí                    | ❌ No (solo desde Account Console o SCIM API) |\n",
    "| Sincronizables desde IdP (Azure AD, Okta)    | ❌ No                    | ✅ Sí                  |\n",
    "| Ideal para producción                        | ❌ No                    | ✅ Sí                  |\n",
    "\n",
    "Como regla general, para entornos productivos y para aprovechar todas las capacidades de Unity Catalog, utiliza siempre usuarios y grupos de cuenta.\n",
    "\n"
   ]
  },
  {
   "cell_type": "markdown",
   "metadata": {
    "application/vnd.databricks.v1+cell": {
     "cellMetadata": {},
     "inputWidgets": {},
     "nuid": "71dfa0d4-d408-4c8b-9add-88d11b04450e",
     "showTitle": false,
     "tableResultSettingsMap": {},
     "title": ""
    }
   },
   "source": [
    "## Ejercicios"
   ]
  },
  {
   "cell_type": "markdown",
   "metadata": {
    "application/vnd.databricks.v1+cell": {
     "cellMetadata": {},
     "inputWidgets": {},
     "nuid": "090f8719-ca60-4cf3-b781-2d939854abba",
     "showTitle": false,
     "tableResultSettingsMap": {},
     "title": ""
    }
   },
   "source": [
    "\n",
    "En este ejercicio vamos a:\n",
    "\n",
    "1. Crear un esquema y una tabla sensible en Unity Catalog\n",
    "2. Crear grupos y usuarios\n",
    "3. Asignar permisos diferenciados a distintos perfiles\n",
    "4. Validar los accesos mediante consultas"
   ]
  },
  {
   "cell_type": "markdown",
   "metadata": {
    "application/vnd.databricks.v1+cell": {
     "cellMetadata": {},
     "inputWidgets": {},
     "nuid": "96e9a04b-47df-4591-8f2c-c812d1690c55",
     "showTitle": false,
     "tableResultSettingsMap": {},
     "title": ""
    }
   },
   "source": [
    "### Parte A – Creación del esquema y la tabla\n",
    "\n",
    "Vamos a crear un esquema `retail` dentro del catálogo `empresa_datos`, y una tabla que contiene datos estas columnas:\n",
    "- id_ventas\n",
    "- fecha\n",
    "- producto_id\n",
    "- cantidad\n",
    "- precio\n",
    "- email_cliente (es un dato sensible, ya veremos luego porqué decimos esto)\n",
    "- total (cantidad*precio)"
   ]
  },
  {
   "cell_type": "code",
   "execution_count": 0,
   "metadata": {
    "application/vnd.databricks.v1+cell": {
     "cellMetadata": {
      "byteLimit": 2048000,
      "implicitDf": true,
      "rowLimit": 10000
     },
     "inputWidgets": {},
     "nuid": "226a9fdf-2f3a-4963-a883-8f46417906dc",
     "showTitle": false,
     "tableResultSettingsMap": {},
     "title": ""
    }
   },
   "outputs": [],
   "source": [
    "%sql\n",
    "-- Parámetros (asegúrate de tener estos grupos creados a nivel de cuenta)\n",
    "CREATE SCHEMA IF NOT EXISTS sesion_2.retail;\n",
    "\n",
    "USE CATALOG sesion_2;\n",
    "USE SCHEMA retail;\n",
    "\n",
    "CREATE OR REPLACE TABLE ventas_clientes (\n",
    "  id_venta STRING,\n",
    "  fecha DATE,\n",
    "  producto_id STRING,\n",
    "  cantidad INT,\n",
    "  precio DOUBLE,\n",
    "  email_cliente STRING,\n",
    "  total DOUBLE GENERATED ALWAYS AS (cantidad * precio)\n",
    ")\n",
    "COMMENT 'Tabla con datos sensibles de clientes y ventas';\n"
   ]
  },
  {
   "cell_type": "markdown",
   "metadata": {
    "application/vnd.databricks.v1+cell": {
     "cellMetadata": {},
     "inputWidgets": {},
     "nuid": "ed54d7d4-0d11-4935-9c2c-49910c5f10d2",
     "showTitle": false,
     "tableResultSettingsMap": {},
     "title": ""
    }
   },
   "source": [
    "###  Parte B – Configuración de permisos a grupos\n",
    "\n",
    "Crea los 3 siguientes grupos de usuarios\n",
    "- `data_engineers`: acceso total (lectura, escritura)\n",
    "- `data_analysts`: solo lectura general\n",
    "- `data_scientists`: acceso solo a columnas no sensibles\n",
    "\n",
    "Asegúrate de que estos grupos existen en **Account Console** y están sincronizados con tu workspace.\n"
   ]
  },
  {
   "cell_type": "code",
   "execution_count": 0,
   "metadata": {
    "application/vnd.databricks.v1+cell": {
     "cellMetadata": {
      "byteLimit": 2048000,
      "implicitDf": true,
      "rowLimit": 10000
     },
     "inputWidgets": {},
     "nuid": "6930f1aa-cede-49a3-8073-98f9b0b59b0f",
     "showTitle": false,
     "tableResultSettingsMap": {},
     "title": ""
    }
   },
   "outputs": [],
   "source": [
    "%sql\n",
    "-- Asignar permisos a data_engineers\n",
    "GRANT ALL PRIVILEGES ON CATALOG sesion_2 TO `data_engineers`;\n",
    "GRANT ALL PRIVILEGES ON SCHEMA retail TO `data_engineers`;\n",
    "GRANT ALL PRIVILEGES ON TABLE ventas_clientes TO `data_engineers`;"
   ]
  },
  {
   "cell_type": "code",
   "execution_count": 0,
   "metadata": {
    "application/vnd.databricks.v1+cell": {
     "cellMetadata": {
      "byteLimit": 2048000,
      "implicitDf": true,
      "rowLimit": 10000
     },
     "inputWidgets": {},
     "nuid": "37b655ac-ac0b-412d-8f43-2ebc514d7a27",
     "showTitle": false,
     "tableResultSettingsMap": {},
     "title": ""
    }
   },
   "outputs": [],
   "source": [
    "%sql\n",
    "-- Verifica los permisos sobre el catálogo\n",
    "SHOW GRANTS ON CATALOG sesion_2;\n"
   ]
  },
  {
   "cell_type": "code",
   "execution_count": 0,
   "metadata": {
    "application/vnd.databricks.v1+cell": {
     "cellMetadata": {
      "byteLimit": 2048000,
      "implicitDf": true,
      "rowLimit": 10000
     },
     "inputWidgets": {},
     "nuid": "b4f888c4-d917-4562-8481-da3a653832d6",
     "showTitle": false,
     "tableResultSettingsMap": {},
     "title": ""
    }
   },
   "outputs": [],
   "source": [
    "%sql\n",
    "-- Permisos limitados para data_analysts\n",
    "GRANT USE CATALOG ON CATALOG sesion_2 TO `data_analysts`;\n",
    "GRANT USE SCHEMA ON SCHEMA retail TO `data_analysts`;\n",
    "GRANT SELECT ON TABLE ventas_clientes TO `data_analysts`;"
   ]
  },
  {
   "cell_type": "code",
   "execution_count": 0,
   "metadata": {
    "application/vnd.databricks.v1+cell": {
     "cellMetadata": {
      "byteLimit": 2048000,
      "implicitDf": true,
      "rowLimit": 10000
     },
     "inputWidgets": {},
     "nuid": "323b39c7-29ee-4821-82c3-a3a221b32589",
     "showTitle": false,
     "tableResultSettingsMap": {},
     "title": ""
    }
   },
   "outputs": [],
   "source": [
    "%sql\n",
    "-- Verifica los permisos sobre el esquema\n",
    "SHOW GRANTS ON SCHEMA sesion_2.retail;\n"
   ]
  },
  {
   "cell_type": "code",
   "execution_count": 0,
   "metadata": {
    "application/vnd.databricks.v1+cell": {
     "cellMetadata": {
      "byteLimit": 2048000,
      "implicitDf": true,
      "rowLimit": 10000
     },
     "inputWidgets": {},
     "nuid": "421d5a16-cbd5-499c-9638-762fe9cdd0bd",
     "showTitle": false,
     "tableResultSettingsMap": {},
     "title": ""
    }
   },
   "outputs": [],
   "source": [
    "%sql\n",
    "-- Permisos limitados para data_scientists (solo columnas específicas)\n",
    "GRANT USE CATALOG ON CATALOG sesion_2 TO `data_scientists`;\n",
    "GRANT USE SCHEMA ON SCHEMA retail TO `data_scientists`;\n",
    "\n",
    "CREATE VIEW sesion_2.retail.ventas_clientes_restricted AS\n",
    "SELECT ID_VENTA, fecha, producto_id, cantidad, precio, total \n",
    "FROM sesion_2.retail.ventas_clientes;\n",
    "\n",
    "GRANT SELECT ON VIEW sesion_2.retail.ventas_clientes_restricted TO `data_scientists`;"
   ]
  },
  {
   "cell_type": "code",
   "execution_count": 0,
   "metadata": {
    "application/vnd.databricks.v1+cell": {
     "cellMetadata": {
      "byteLimit": 2048000,
      "implicitDf": true,
      "rowLimit": 10000
     },
     "inputWidgets": {},
     "nuid": "4f69b2fb-199c-4235-ba25-6adaa05a7ad9",
     "showTitle": false,
     "tableResultSettingsMap": {},
     "title": ""
    }
   },
   "outputs": [],
   "source": [
    "%sql\n",
    "-- Verifica los permisos sobre la tabla\n",
    "SHOW GRANTS ON TABLE sesion_2.retail.ventas_clientes_restricted;\n"
   ]
  },
  {
   "cell_type": "markdown",
   "metadata": {
    "application/vnd.databricks.v1+cell": {
     "cellMetadata": {},
     "inputWidgets": {},
     "nuid": "9bdd595f-6798-42bd-9381-4b480634acd1",
     "showTitle": false,
     "tableResultSettingsMap": {},
     "title": ""
    }
   },
   "source": [
    "\n",
    "### Parte C – Verificación de permisos asignados a grupos\n",
    "\n",
    "A continuación, vamos a comprobar que los grupos `data_engineers`, `data_analysts` y `data_scientists` tienen los permisos esperados sobre el catálogo, esquema y tabla.\n"
   ]
  },
  {
   "cell_type": "markdown",
   "metadata": {
    "application/vnd.databricks.v1+cell": {
     "cellMetadata": {},
     "inputWidgets": {},
     "nuid": "7f7a522c-4549-4fda-a8a3-a95ffc08fb98",
     "showTitle": false,
     "tableResultSettingsMap": {},
     "title": ""
    }
   },
   "source": [
    "## 2. Job y Workflows"
   ]
  },
  {
   "cell_type": "markdown",
   "metadata": {
    "application/vnd.databricks.v1+cell": {
     "cellMetadata": {},
     "inputWidgets": {},
     "nuid": "df7281c5-6abb-4f78-891b-b176447618a6",
     "showTitle": false,
     "tableResultSettingsMap": {},
     "title": ""
    }
   },
   "source": [
    "###  Introducción a los Jobs\n",
    "\n",
    "Un **Job** en Databricks es una forma de automatizar la ejecución de notebooks, scripts o JARs, ya sea de forma programada o por eventos. Cada Job puede contener múltiples **tareas** (tasks) que se organizan como un **Workflow** con dependencias entre ellas.\n",
    "\n",
    "Ejemplos de uso:\n",
    "- Cargar datos a diario desde un sistema fuente.\n",
    "- Transformar datos mediante una secuencia de notebooks.\n",
    "- Ejecutar pipelines de ML y enviar alertas si fallan.\n",
    "\n",
    "En esta sección, exploraremos cómo crear un Job con múltiples tareas conectadas.\n"
   ]
  },
  {
   "cell_type": "markdown",
   "metadata": {
    "application/vnd.databricks.v1+cell": {
     "cellMetadata": {},
     "inputWidgets": {},
     "nuid": "ea9f2ef7-2adf-43da-a040-07ac76f57f37",
     "showTitle": false,
     "tableResultSettingsMap": {},
     "title": ""
    }
   },
   "source": [
    "Vamos a ver un ejemplo:\n",
    "Vamos a crear un job que cargue un fichero de un volumen y lo guarde en una delta table apendeando los datos. Antes de esto vamos a hacer lo siguiente:\n",
    " - Descargarnos el fochero `datos_clientes.csv` y subirlo a nuestro volumen\n",
    " - Cuando lo vayamos a ejucutar hacerlo con estos parametros:\n",
    " ```bash\n",
    " [\"--input_volume=/Volumes/mi_catalogo/mi_esquema/mi_volumen\",\n",
    " \"--input_file=datos_*.csv\",\n",
    " \"--output_table=mi_catalogo.mi_esquema.tabla_clientes\"]\n",
    " ```"
   ]
  },
  {
   "cell_type": "markdown",
   "metadata": {
    "application/vnd.databricks.v1+cell": {
     "cellMetadata": {},
     "inputWidgets": {},
     "nuid": "775519ec-7886-49b3-bbb5-06b40f4dd472",
     "showTitle": false,
     "tableResultSettingsMap": {},
     "title": ""
    }
   },
   "source": [
    "Ahora consultamos la tabla para ver que ha ido bien la cosa:"
   ]
  },
  {
   "cell_type": "code",
   "execution_count": 0,
   "metadata": {
    "application/vnd.databricks.v1+cell": {
     "cellMetadata": {
      "byteLimit": 2048000,
      "implicitDf": true,
      "rowLimit": 10000
     },
     "inputWidgets": {},
     "nuid": "effcec82-2256-40d0-8d26-dee8269ce84a",
     "showTitle": false,
     "tableResultSettingsMap": {},
     "title": ""
    }
   },
   "outputs": [],
   "source": [
    "%sql\n",
    "SELECT * FROM sesion_2.retail_ventas.tabla_clientes;"
   ]
  },
  {
   "cell_type": "markdown",
   "metadata": {
    "application/vnd.databricks.v1+cell": {
     "cellMetadata": {},
     "inputWidgets": {},
     "nuid": "61891283-cd04-4a2d-bb82-0d5f65342487",
     "showTitle": false,
     "tableResultSettingsMap": {},
     "title": ""
    }
   },
   "source": [
    "### Ejercicio Job"
   ]
  },
  {
   "cell_type": "markdown",
   "metadata": {
    "application/vnd.databricks.v1+cell": {
     "cellMetadata": {},
     "inputWidgets": {},
     "nuid": "84ef58e5-9e2a-4c54-b115-29f112b107ae",
     "showTitle": false,
     "tableResultSettingsMap": {},
     "title": ""
    }
   },
   "source": [
    "Tu tarea es crear un proceso parametrizado que lea datos y los guarde en una tabla Delta. Para ello hay que hacer lo siguiente:\n",
    "1. Crear un fichero `.py` con la lógica de la ejcución (utilizando la plantilla que se llama `ejercicio_job`) y haga lo siguiente:\n",
    "    - Lea el archivo JSON `datos_ejercicios.json` desde un Volumen.\n",
    "    - Valide que los datos tengan las columnas correctas.\n",
    "    - Añada metadatos (fecha_procesamiento y fuente y nombre).\n",
    "    - Filtrar los pedidos con `total_aamount <=0`\n",
    "    - Cargue los datos en una tabla Delta (creándola si no existe).\n",
    "2. Cree el job con las siguientes características:\n",
    "    - Poner parámetros de entrada\n",
    "    - Ejecución automática cada 5 minutos"
   ]
  },
  {
   "cell_type": "markdown",
   "metadata": {
    "application/vnd.databricks.v1+cell": {
     "cellMetadata": {},
     "inputWidgets": {},
     "nuid": "fe17b057-dad2-45b8-bf38-62ee5ba95111",
     "showTitle": false,
     "tableResultSettingsMap": {},
     "title": ""
    }
   },
   "source": [
    "###  Introducción a los Workflows\n",
    "- Orquestación de múltiples tareas dentro de un Job.\n",
    "- Similar a DAGs en Airflow: define dependencias, triggers, condiciones, etc.\n",
    "- Compatible con notebooks, Python scripts, SQL y tareas externas."
   ]
  },
  {
   "cell_type": "markdown",
   "metadata": {
    "application/vnd.databricks.v1+cell": {
     "cellMetadata": {},
     "inputWidgets": {},
     "nuid": "552b3c91-8e11-4442-a064-862b96dde7b1",
     "showTitle": false,
     "tableResultSettingsMap": {},
     "title": ""
    }
   },
   "source": [
    "Vamos a ver ahora cómo crear un Workflow con 5 fases:\n",
    "  1. ingestar_datos\n",
    "  2. validar_datos\n",
    "  3. castear_datos\n",
    "  4. agrupar_datos\n",
    "  5. crear_alertas"
   ]
  },
  {
   "cell_type": "markdown",
   "metadata": {
    "application/vnd.databricks.v1+cell": {
     "cellMetadata": {},
     "inputWidgets": {},
     "nuid": "ca06e046-832a-47da-ac8e-5f63f86db46a",
     "showTitle": false,
     "tableResultSettingsMap": {},
     "title": ""
    }
   },
   "source": [
    "#### Lineage"
   ]
  },
  {
   "cell_type": "markdown",
   "metadata": {
    "application/vnd.databricks.v1+cell": {
     "cellMetadata": {},
     "inputWidgets": {},
     "nuid": "ebce31a3-153a-46ed-a022-83f2c498405d",
     "showTitle": false,
     "tableResultSettingsMap": {},
     "title": ""
    }
   },
   "source": [
    "Antes de pasar a los ejercicios vamos a ver el **lineage** de una Delta Table. Es el rastro de datos que muestra el origen, las transformaciones y las dependencias de una tabla dentro de un entorno de Databricks, incluyendo:\n",
    "- Qué datos se usaron como fuente (archivos, otras tablas, bases de datos, etc.)\n",
    "- Qué transformaciones se aplicaron (joins, filtros, agregaciones, etc.)\n",
    "- Qué notebooks, workflows o jobs intervinieron\n",
    "- Quién ejecutó esas transformaciones y cuándo\n",
    "\n",
    "Para verlo se puede hacer directamente en la interfaz web:\n",
    "1. Ve al Catalog.\n",
    "2. Selecciona un catálogo y esquema.\n",
    "3. Haz clic en una tabla.\n",
    "4. Ve a la pestaña Lineage."
   ]
  },
  {
   "cell_type": "markdown",
   "metadata": {
    "application/vnd.databricks.v1+cell": {
     "cellMetadata": {},
     "inputWidgets": {},
     "nuid": "224a87d7-6e11-4682-bb8f-c7902cb3e315",
     "showTitle": false,
     "tableResultSettingsMap": {},
     "title": ""
    }
   },
   "source": [
    "## Ejercicios"
   ]
  },
  {
   "cell_type": "markdown",
   "metadata": {
    "application/vnd.databricks.v1+cell": {
     "cellMetadata": {},
     "inputWidgets": {},
     "nuid": "8a54d6a7-7bfd-48c0-87d9-3b8b966b6610",
     "showTitle": false,
     "tableResultSettingsMap": {},
     "title": ""
    }
   },
   "source": [
    "Crear un Workflow con 4 tareas:\n",
    "1. Cargar los datos de vuelos y de aeropuertos desde 2 archivos CSV a 2 tabla Delta (primero vamos a subir a mano los archivos desde el repo a un Volumen).\n",
    "2. Procesar los datos de vuelos a otra tabla delta añadiendo 2 columnas: el tiempo de vuelo y el retraso.\n",
    "3. Unir ambas tablas para crear una tercera con los vuelos y sus nombres de aeropuertos."
   ]
  },
  {
   "cell_type": "markdown",
   "metadata": {
    "application/vnd.databricks.v1+cell": {
     "cellMetadata": {},
     "inputWidgets": {},
     "nuid": "3ec902e5-15e5-4081-8ccf-8d9d087e2afc",
     "showTitle": false,
     "tableResultSettingsMap": {},
     "title": ""
    }
   },
   "source": [
    "*Pistas*:\n",
    "  1. Para desarrollar las tareas de ingestas vale el mismo archivo. Únicamente hay que crear un proceso que lea un fichero csv desde una ruta parametrizable y lo cargue en una tabla delta\n",
    "  2. Se puede asignar a diferentes `Task` un mismo fichero `.py` y cambiar los argumentos de entrada del programa"
   ]
  },
  {
   "cell_type": "markdown",
   "metadata": {
    "application/vnd.databricks.v1+cell": {
     "cellMetadata": {},
     "inputWidgets": {},
     "nuid": "64bd80f8-bada-4c94-b126-90e6e82338bf",
     "showTitle": false,
     "tableResultSettingsMap": {},
     "title": ""
    }
   },
   "source": [
    "## PipeLines y Delta Live Tables (Avanzado) "
   ]
  },
  {
   "cell_type": "markdown",
   "metadata": {
    "application/vnd.databricks.v1+cell": {
     "cellMetadata": {},
     "inputWidgets": {},
     "nuid": "5ea47703-d480-4763-8883-eb5d591487e1",
     "showTitle": false,
     "tableResultSettingsMap": {},
     "title": ""
    }
   },
   "source": [
    "Las Delta Live Tables (DLT) en Databricks son una funcionalidad que permite crear, gestionar y mantener pipelines de datos de forma declarativa y automatizada y se utilizan en el apartado Workflow -> Pilines. Están diseñadas para simplificar la ingestión, transformación y calidad de los datos dentro del lakehouse de Databricks, aprovechando el formato Delta Lake."
   ]
  },
  {
   "cell_type": "markdown",
   "metadata": {
    "application/vnd.databricks.v1+cell": {
     "cellMetadata": {},
     "inputWidgets": {},
     "nuid": "22f10161-b72d-43e3-afd0-28a6e3eb907a",
     "showTitle": false,
     "tableResultSettingsMap": {},
     "title": ""
    }
   },
   "source": [
    "### Características principales"
   ]
  },
  {
   "cell_type": "markdown",
   "metadata": {
    "application/vnd.databricks.v1+cell": {
     "cellMetadata": {},
     "inputWidgets": {},
     "nuid": "6d2546f9-f3be-4b6c-ab60-46d1171de054",
     "showTitle": false,
     "tableResultSettingsMap": {},
     "title": ""
    }
   },
   "source": [
    "- Declarativo: defines las transformaciones como funciones o vistas, sin preocuparte de la ejecución secuencial.\n",
    "- Automatizado: Databricks determina el orden de ejecución, gestiona los cambios y optimiza el rendimiento.\n",
    "- Incremental: trabaja eficientemente con datos nuevos sin tener que reprocesar todo el conjunto.\n",
    "- Data Quality con Expectations: puedes definir condiciones para validar los datos (ej. “no debe haber valores nulos en una columna clave”)."
   ]
  },
  {
   "cell_type": "markdown",
   "metadata": {
    "application/vnd.databricks.v1+cell": {
     "cellMetadata": {},
     "inputWidgets": {},
     "nuid": "2c98f0d3-083f-4855-80c7-e95f2ecdfab2",
     "showTitle": false,
     "tableResultSettingsMap": {},
     "title": ""
    }
   },
   "source": [
    "#### Ejemplo de un procesamiento incremental de datos"
   ]
  },
  {
   "cell_type": "markdown",
   "metadata": {
    "application/vnd.databricks.v1+cell": {
     "cellMetadata": {},
     "inputWidgets": {},
     "nuid": "11288896-3414-4ff7-8f6b-c967f80ec6dc",
     "showTitle": false,
     "tableResultSettingsMap": {},
     "title": ""
    }
   },
   "source": [
    "- Ventaja: DLT detecta automáticamente nuevos datos y procesa solo lo necesario.\n",
    "\n",
    "\n",
    "```python\n",
    "@dlt.table(\n",
    "    comment=\"Silver layer: cleaned user data\",\n",
    "    partition_cols=[\"date\"],\n",
    "    table_properties={\"quality\": \"silver\"}\n",
    ")\n",
    "def users_clean():\n",
    "    return (\n",
    "        dlt.read_stream(\"users_bronze\")\n",
    "        .filter(\"is_active = true\")\n",
    "    )\n",
    "  ```"
   ]
  },
  {
   "cell_type": "markdown",
   "metadata": {
    "application/vnd.databricks.v1+cell": {
     "cellMetadata": {},
     "inputWidgets": {},
     "nuid": "35a498be-c2c5-499e-a542-05068de7586c",
     "showTitle": false,
     "tableResultSettingsMap": {},
     "title": ""
    }
   },
   "source": [
    "```python\n",
    "# En un notebook tradicional\n",
    "df = spark.read.format(\"delta\").load(\"/mnt/bronze/users\")\n",
    "df = df.filter(\"is_active = true\")\n",
    "df.write.format(\"delta\").mode(\"append\").partitionBy(\"date\").save(\"/mnt/silver/users\")\n",
    "\n",
    "# Requiere gestión manual de:\n",
    "# - Watermarks (para streaming)\n",
    "# - Control de particiones\n",
    "# - Estado del último procesamiento\n",
    "```"
   ]
  },
  {
   "cell_type": "code",
   "execution_count": 0,
   "metadata": {
    "application/vnd.databricks.v1+cell": {
     "cellMetadata": {},
     "inputWidgets": {},
     "nuid": "5424d7b1-f755-4034-8ba7-32a3c14eb8df",
     "showTitle": false,
     "tableResultSettingsMap": {},
     "title": ""
    }
   },
   "outputs": [],
   "source": []
  }
 ],
 "metadata": {
  "application/vnd.databricks.v1+notebook": {
   "computePreferences": null,
   "dashboards": [],
   "environmentMetadata": {
    "base_environment": "",
    "environment_version": "2"
   },
   "inputWidgetPreferences": null,
   "language": "python",
   "notebookMetadata": {
    "mostRecentlyExecutedCommandWithImplicitDF": {
     "commandId": 5765941178444980,
     "dataframes": [
      "_sqldf"
     ]
    },
    "pythonIndentUnit": 4
   },
   "notebookName": "2. Permisos, Workflows y Jobs",
   "widgets": {
    "catalogo": {
     "currentValue": "sesion_2",
     "nuid": "bdfa8d04-03d5-4f18-a6d9-b58f9cf94fa9",
     "typedWidgetInfo": {
      "autoCreated": false,
      "defaultValue": "sesion_2",
      "label": "Nombre del Catálogo que vamos a usar durante esta sesion",
      "name": "catalogo",
      "options": {
       "widgetDisplayType": "Text",
       "validationRegex": null
      },
      "parameterDataType": "String"
     },
     "widgetInfo": {
      "widgetType": "text",
      "defaultValue": "sesion_2",
      "label": "Nombre del Catálogo que vamos a usar durante esta sesion",
      "name": "catalogo",
      "options": {
       "widgetType": "text",
       "autoCreated": null,
       "validationRegex": null
      }
     }
    },
    "esquema": {
     "currentValue": "retail_ventas",
     "nuid": "0553afe9-fe88-4633-b432-edd0b18c06f9",
     "typedWidgetInfo": {
      "autoCreated": false,
      "defaultValue": "retail_ventas",
      "label": "Nombre del Esquema",
      "name": "esquema",
      "options": {
       "widgetDisplayType": "Text",
       "validationRegex": null
      },
      "parameterDataType": "String"
     },
     "widgetInfo": {
      "widgetType": "text",
      "defaultValue": "retail_ventas",
      "label": "Nombre del Esquema",
      "name": "esquema",
      "options": {
       "widgetType": "text",
       "autoCreated": null,
       "validationRegex": null
      }
     }
    }
   }
  },
  "language_info": {
   "name": "python"
  }
 },
 "nbformat": 4,
 "nbformat_minor": 0
}
